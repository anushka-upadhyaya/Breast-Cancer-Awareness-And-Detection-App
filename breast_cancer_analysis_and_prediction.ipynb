{
  "nbformat": 4,
  "nbformat_minor": 0,
  "metadata": {
    "kernelspec": {
      "display_name": "Python 3",
      "language": "python",
      "name": "python3"
    },
    "language_info": {
      "name": "python",
      "version": "3.6.6",
      "mimetype": "text/x-python",
      "codemirror_mode": {
        "name": "ipython",
        "version": 3
      },
      "pygments_lexer": "ipython3",
      "nbconvert_exporter": "python",
      "file_extension": ".py"
    },
    "colab": {
      "name": "breast-cancer-analysis-and-prediction.ipynb",
      "provenance": []
    }
  },
  "cells": [
    {
      "cell_type": "markdown",
      "metadata": {
        "_uuid": "8f2839f25d086af736a60e9eeb907d3b93b6e0e5",
        "_cell_guid": "b1076dfc-b9ad-4769-8c92-a6c4dae69d19",
        "trusted": true,
        "id": "pialI70fNxpX",
        "colab_type": "text"
      },
      "source": [
        "----------\n",
        "**Breast Cancer Analysis and Prediction**\n",
        "=====================================\n",
        "\n",
        "***Recall = 1. Precision = .92 Accuracy =  .971***\n",
        "\n",
        "----------"
      ]
    },
    {
      "cell_type": "markdown",
      "metadata": {
        "id": "qSpf9uE2ObFN",
        "colab_type": "text"
      },
      "source": [
        "https://archive.ics.uci.edu/ml/datasets/Breast+Cancer+Wisconsin+%28Diagnostic%29"
      ]
    },
    {
      "cell_type": "markdown",
      "metadata": {
        "_cell_guid": "79c7e3d0-c299-4dcb-8224-4455121ee9b0",
        "collapsed": true,
        "_uuid": "d629ff2d2480ee46fbb7e2d37f6b5fab8052498a",
        "trusted": false,
        "id": "3v29h4RyNxpa",
        "colab_type": "text"
      },
      "source": [
        "- <a href='#1'>1. Load libraries and read the data</a>  \n",
        "    - <a href='#1.1'>1.1. Load libraries</a> \n",
        "    - <a href='#1.2'>1.2. Read the data</a> \n",
        "    - <a href='#1.3'>1.3. Missing values</a> \n",
        "    - <a href='#1.4'>1.4. Reassign target and drop useless features</a> \n",
        "- <a href='#2'>2. Exploratory Data Analysis (EDA)</a> \n",
        "    - <a href='#2.1'>2.1. Head and describe</a> \n",
        "    - <a href='#2.2'>2.2. Target distribution (number and %)</a> \n",
        "    - <a href='#2.3'>2.3. Features distribution (hue = diagnosis)</a> \n",
        "    - <a href='#2.4'>2.4. Correlation matrix</a> \n",
        "    - <a href='#2.6'>2.5. Positive correlated features</a> \n",
        "    - <a href='#2.7'>2.6. Uncorrelated features</a> \n",
        "    - <a href='#2.7'>2.7. Negative correlated features</a> \n",
        "- <a href='#3'>3. Principal Component Analysis</a>\n",
        "    - <a href='#3.1'>3.1. Compute PCA</a> \n",
        "    - <a href='#3.2'>3.2. PCA pie plot with 6 components (88.8%)</a> \n",
        "    - <a href='#3.2'>3.3. PCA scatter plot with 2 components (63.3%)</a> \n",
        "    - <a href='#3.3'>3.4. PCA scatter plot with 3 components (72.7%)</a>\n",
        "- <a href='#4'>4. Define functions</a>\n",
        "    - <a href='#4.1'>4.1. Confusion matrix and show metrics</a> \n",
        "    - <a href='#4.2'>4.2. Precision – Recall curve</a> \n",
        "    - <a href='#4.3'>4.3. ROC curve</a> \n",
        "    - <a href='#4.4'>4.4. Learning curve</a> \n",
        "    - <a href='#4.5'>4.5. Cross validation metrics</a> \n",
        "- <a href='#5'>5. Prepare dataset</a>\n",
        "    - <a href='#5.1'>5.1. Define (X,  y)</a> \n",
        "    - <a href='#5.2'>5.2. Standard scaler (X)</a> \n",
        "    - <a href='#5.3'>5.3. Train test split</a> \n",
        "- <a href='#6'>6. Predictive model : Logistic Regression</a> \n",
        "    - <a href='#6.1'>6.1. Logistic Regression  and GridSearch CV to optimise hyperparameters (accuracy)</a> \n",
        "    - <a href='#6.2'>6.2. RFE : Recursive features elimination (30 features => 15 features)</a> \n",
        "    - <a href='#6.3'>6.3. Compare learning curves and cross validation scores</a> \n",
        "    - <a href='#6.4'>6.4. Select threshold for a recall = 100% (all malignant tumors detected)</a> \n",
        "    - <a href='#6.5'>6.5. Predicting with recall = 100%</a> \n",
        "- <a href='#7'>7. Predictive model 2 : Ensemble Classifier to maximise precision and detect all malignant tumors</a>\n",
        "    - <a href='#7.1'>7.1. Logistic Regression  and GridSearch CV to optimise hyperparameters (recall)</a> \n",
        "    - <a href='#7.2'>7.2. Voting classifier : log + log2</a> \n",
        "    - <a href='#7.3'>7.3. Voting classifier : select threshold (recall = 100%)</a> \n",
        "    - <a href='#7.4'>7.4. Voting classifier : predicting with recall = 100% (precision = 92%)</a> \n",
        "    - <a href='#7.5'>7.5. Models performance plot (accuracy, precision, recall)</a> "
      ]
    },
    {
      "cell_type": "markdown",
      "metadata": {
        "_uuid": "93891e4e0c95c6a203663bbbb2309bb463c9450c",
        "id": "78HQJNijNxpb",
        "colab_type": "text"
      },
      "source": [
        "**Information : [here](https://archive.ics.uci.edu/ml/datasets/Breast+Cancer+Wisconsin+%28Diagnostic%29)**\n",
        "\n",
        "Features are computed from a digitized image of a fine needle aspirate (FNA) of a breast mass. They describe characteristics of the cell nuclei present in the image. \n",
        "* ID number \n",
        "* Diagnosis (M = malignant, B = benign)  \n",
        "\n",
        "Ten real-valued features are computed for each cell nucleus: \n",
        "\n",
        "* radius (mean of distances from center to points on the perimeter) \n",
        "* texture (standard deviation of gray-scale values) \n",
        "* perimeter \n",
        "* area \n",
        "* smoothness (local variation in radius lengths) \n",
        "* compactness (perimeter^2 / area - 1.0) \n",
        "* concavity (severity of concave portions of the contour) \n",
        "* concave points (number of concave portions of the contour) \n",
        "* symmetry \n",
        "* fractal dimension (\"coastline approximation\" - 1)"
      ]
    },
    {
      "cell_type": "markdown",
      "metadata": {
        "_uuid": "686e59146dd06ab6d425ce99090f045a998e607b",
        "id": "H5zmchHlNxpe",
        "colab_type": "text"
      },
      "source": [
        "# <a id='1'>1. Load libraries and read the data</a> "
      ]
    },
    {
      "cell_type": "markdown",
      "metadata": {
        "_uuid": "918fd73706b63edfd9b456c7b49bd5c46021375e",
        "id": "kFKYRw77Nxpf",
        "colab_type": "text"
      },
      "source": [
        "## <a id='1.1'>1.1. Load libraries</a> "
      ]
    },
    {
      "cell_type": "code",
      "metadata": {
        "trusted": true,
        "_uuid": "bbf404e4824ea60fd69de5d6117edec5f61480b8",
        "id": "m47gp0aDNxpg",
        "colab_type": "code",
        "colab": {}
      },
      "source": [
        "# Python libraries\n",
        "import pandas as pd\n",
        "import numpy as np\n",
        "import seaborn as sns\n",
        "import matplotlib.pyplot as plt\n",
        "%matplotlib inline\n",
        "import itertools\n",
        "from itertools import chain\n",
        "from sklearn.feature_selection import RFE\n",
        "from sklearn.decomposition import PCA\n",
        "from sklearn.preprocessing import StandardScaler\n",
        "from sklearn.linear_model import LogisticRegression\n",
        "from sklearn.ensemble import VotingClassifier\n",
        "from sklearn.model_selection import GridSearchCV, cross_val_score, learning_curve, train_test_split\n",
        "from sklearn.metrics import precision_score, recall_score, confusion_matrix, roc_curve, precision_recall_curve, accuracy_score\n",
        "import warnings\n",
        "import plotly.offline as py\n",
        "py.init_notebook_mode(connected=True)\n",
        "import plotly.graph_objs as go\n",
        "import plotly.tools as tls\n",
        "import plotly.figure_factory as ff\n",
        "\n",
        "warnings.filterwarnings('ignore') #ignore warning messages "
      ],
      "execution_count": null,
      "outputs": []
    },
    {
      "cell_type": "markdown",
      "metadata": {
        "_uuid": "c3aca04e153a6fac0d6c37d5166249f9ae8d532e",
        "id": "8OcuyY8-Nxpq",
        "colab_type": "text"
      },
      "source": [
        "## <a id='1.2'>1.2. Read the data</a>"
      ]
    },
    {
      "cell_type": "code",
      "metadata": {
        "trusted": true,
        "_uuid": "6da5e989161e2ae3a8b3349881fec598b17f78c1",
        "id": "GEdwIcYuNxpr",
        "colab_type": "code",
        "colab": {}
      },
      "source": [
        "# Read data\n",
        "data = pd.read_csv('../input/data.csv')"
      ],
      "execution_count": null,
      "outputs": []
    },
    {
      "cell_type": "markdown",
      "metadata": {
        "_uuid": "fceed7f2e0de59bf6da30bafa19e8da7da925c74",
        "id": "0ga6BNx9Nxpx",
        "colab_type": "text"
      },
      "source": [
        "## <a id='1.3'>1.3. Missing values</a>"
      ]
    },
    {
      "cell_type": "code",
      "metadata": {
        "trusted": true,
        "_uuid": "2375f9f5fe063072664895744d4ade019196c37f",
        "id": "iap7-qVZNxpy",
        "colab_type": "code",
        "colab": {}
      },
      "source": [
        "null_feat = pd.DataFrame(len(data['id']) - data.isnull().sum(), columns = ['Count'])\n",
        "\n",
        "trace = go.Bar(x = null_feat.index, y = null_feat['Count'] ,opacity = 0.8, marker=dict(color = 'lightgrey',\n",
        "        line=dict(color='#000000',width=1.5)))\n",
        "\n",
        "layout = dict(title =  \"Missing Values\")\n",
        "                    \n",
        "fig = dict(data = [trace], layout=layout)\n",
        "py.iplot(fig)"
      ],
      "execution_count": null,
      "outputs": []
    },
    {
      "cell_type": "markdown",
      "metadata": {
        "_uuid": "fe07edb06d1eea61701a156922fc02b50ce4a114",
        "id": "RFeJLbIKNxp4",
        "colab_type": "text"
      },
      "source": [
        "All features are complete, only 'Unnamed: 32' is completely null, probably an error in the dataset, we drop it in below"
      ]
    },
    {
      "cell_type": "markdown",
      "metadata": {
        "_uuid": "7b01b05873bebba75f13a4db1047872e9e9b76e1",
        "id": "ujNW0BJ0Nxp6",
        "colab_type": "text"
      },
      "source": [
        "## <a id='1.4'>1.4. Reassign target and drop useless features</a>"
      ]
    },
    {
      "cell_type": "code",
      "metadata": {
        "trusted": true,
        "_uuid": "625b46ed9cde8f870f2e524eef2c964b09521390",
        "id": "qvEKdADDNxp7",
        "colab_type": "code",
        "colab": {}
      },
      "source": [
        "# Drop useless variables\n",
        "data = data.drop(['Unnamed: 32','id'],axis = 1)\n",
        "\n",
        "# Reassign target\n",
        "data.diagnosis.replace(to_replace = dict(M = 1, B = 0), inplace = True)"
      ],
      "execution_count": null,
      "outputs": []
    },
    {
      "cell_type": "markdown",
      "metadata": {
        "_uuid": "828354108a8e730fe25d8dedc2dd9b56fb59f7fb",
        "id": "4sLqLXR7NxqA",
        "colab_type": "text"
      },
      "source": [
        "# <a id='2'>2. Exploratory Data Analysis (EDA)</a>"
      ]
    },
    {
      "cell_type": "markdown",
      "metadata": {
        "_uuid": "a8572425f7fc0f43544ab2408ff779e41215ed6a",
        "id": "XpUVfWvDNxqB",
        "colab_type": "text"
      },
      "source": [
        "## <a id='2.1'>2.1. Head and describe</a> "
      ]
    },
    {
      "cell_type": "code",
      "metadata": {
        "trusted": true,
        "_uuid": "5e7dc31e6fbfc82183bab592efa712c2166f7775",
        "id": "yMGwKFloNxqC",
        "colab_type": "code",
        "colab": {}
      },
      "source": [
        "# Head\n",
        "data.head()"
      ],
      "execution_count": null,
      "outputs": []
    },
    {
      "cell_type": "code",
      "metadata": {
        "trusted": true,
        "_uuid": "7da89c8be02c5d4656e0c406e3c494b24ce48c50",
        "id": "gSrE6HIdNxqK",
        "colab_type": "code",
        "colab": {}
      },
      "source": [
        "# describe\n",
        "data.describe()"
      ],
      "execution_count": null,
      "outputs": []
    },
    {
      "cell_type": "markdown",
      "metadata": {
        "_uuid": "7df166d8496c97297fc296336f7c8da3934f95ba",
        "id": "2jRsfT_QNxqQ",
        "colab_type": "text"
      },
      "source": [
        "## <a id='2.2'>2.2. Target distribution (number and %)</a> "
      ]
    },
    {
      "cell_type": "code",
      "metadata": {
        "trusted": true,
        "_uuid": "fc1c0f7f6e8a3bac177dd78aa50fa0e37ac535db",
        "id": "DWNIU75ONxqR",
        "colab_type": "code",
        "colab": {}
      },
      "source": [
        "# 2 datasets\n",
        "M = data[(data['diagnosis'] != 0)]\n",
        "B = data[(data['diagnosis'] == 0)]"
      ],
      "execution_count": null,
      "outputs": []
    },
    {
      "cell_type": "code",
      "metadata": {
        "trusted": true,
        "_uuid": "5d3cb68900a327b8ed80e0a80ab5e9ca7e6abd08",
        "id": "eAtv0hXcNxqW",
        "colab_type": "code",
        "colab": {}
      },
      "source": [
        "#------------COUNT-----------------------\n",
        "trace = go.Bar(x = (len(M), len(B)), y = ['malignant', 'benign'], orientation = 'h', opacity = 0.8, marker=dict(\n",
        "        color=[ 'gold', 'lightskyblue'],\n",
        "        line=dict(color='#000000',width=1.5)))\n",
        "\n",
        "layout = dict(title =  'Count of diagnosis variable')\n",
        "                    \n",
        "fig = dict(data = [trace], layout=layout)\n",
        "py.iplot(fig)\n",
        "\n",
        "#------------PERCENTAGE-------------------\n",
        "trace = go.Pie(labels = ['benign','malignant'], values = data['diagnosis'].value_counts(), \n",
        "               textfont=dict(size=15), opacity = 0.8,\n",
        "               marker=dict(colors=['lightskyblue', 'gold'], \n",
        "                           line=dict(color='#000000', width=1.5)))\n",
        "\n",
        "\n",
        "layout = dict(title =  'Distribution of diagnosis variable')\n",
        "           \n",
        "fig = dict(data = [trace], layout=layout)\n",
        "py.iplot(fig)"
      ],
      "execution_count": null,
      "outputs": []
    },
    {
      "cell_type": "markdown",
      "metadata": {
        "_uuid": "c0c51c12e012e927fd0a1c15b011a685779b2622",
        "id": "leoRuSEwNxqc",
        "colab_type": "text"
      },
      "source": [
        "## <a id='2.3'>2.3. Features distribution (hue = diagnosis)</a> "
      ]
    },
    {
      "cell_type": "code",
      "metadata": {
        "trusted": true,
        "_uuid": "815e7f9a12a98a6d4f6fdecd9531f1cfdb730f96",
        "id": "6EPbkIjINxqd",
        "colab_type": "code",
        "colab": {}
      },
      "source": [
        "def plot_distribution(data_select, size_bin) :  \n",
        "    tmp1 = M[data_select]\n",
        "    tmp2 = B[data_select]\n",
        "    hist_data = [tmp1, tmp2]\n",
        "    \n",
        "    group_labels = ['malignant', 'benign']\n",
        "    colors = ['#FFD700', '#7EC0EE']\n",
        "\n",
        "    fig = ff.create_distplot(hist_data, group_labels, colors = colors, show_hist = True, bin_size = size_bin, curve_type='kde')\n",
        "    \n",
        "    fig['layout'].update(title = data_select)\n",
        "\n",
        "    py.iplot(fig, filename = 'Density plot')"
      ],
      "execution_count": null,
      "outputs": []
    },
    {
      "cell_type": "markdown",
      "metadata": {
        "_uuid": "24926e3a99e7140fee7610ecca4a7382ea576741",
        "id": "jUJJuPu8Nxqk",
        "colab_type": "text"
      },
      "source": [
        "Bellow, you can remove the '#' to show all features distribution (except the first line)"
      ]
    },
    {
      "cell_type": "code",
      "metadata": {
        "trusted": true,
        "_uuid": "88eae42c3f07a7566d35653ea0ef0f1c22490480",
        "id": "9b9rK-FPNxql",
        "colab_type": "code",
        "colab": {}
      },
      "source": [
        "#plot distribution 'mean'\n",
        "plot_distribution('radius_mean', .5)\n",
        "plot_distribution('texture_mean', .5)\n",
        "plot_distribution('perimeter_mean', 5)\n",
        "plot_distribution('area_mean', 10)\n",
        "#plot_distribution('smoothness_mean', .5)\n",
        "#plot_distribution('compactness_mean' .5)\n",
        "#plot_distribution('concavity_mean' .5)\n",
        "#plot_distribution('concave points_mean' .5)\n",
        "#plot_distribution('symmetry_mean' .5)\n",
        "#plot_distribution('fractal_dimension_mean' .5)"
      ],
      "execution_count": null,
      "outputs": []
    },
    {
      "cell_type": "code",
      "metadata": {
        "trusted": true,
        "_uuid": "a71c1c901c66907cc67f2ce84c7590ea410da08e",
        "id": "6LGkMIwvNxqw",
        "colab_type": "code",
        "colab": {}
      },
      "source": [
        "#plot distribution 'se'\n",
        "plot_distribution('radius_se', .1)\n",
        "plot_distribution('texture_se', .1)\n",
        "plot_distribution('perimeter_se', .5)\n",
        "plot_distribution('area_se', 5)\n",
        "#plot_distribution('smoothness_se', .5)\n",
        "#plot_distribution('compactness_se', .5)\n",
        "#plot_distribution('concavity_se', .5)\n",
        "#plot_distribution('concave points_se', .5)\n",
        "#plot_distribution('symmetry_se', .5)\n",
        "#plot_distribution('fractal_dimension_se', .5)"
      ],
      "execution_count": null,
      "outputs": []
    },
    {
      "cell_type": "code",
      "metadata": {
        "trusted": true,
        "_uuid": "9b9dc3a5d08f6084380ec9ee15e4c36d47dd6894",
        "id": "T3AUKKFINxq1",
        "colab_type": "code",
        "colab": {}
      },
      "source": [
        "#plot distribution 'worst'\n",
        "plot_distribution('radius_worst', .5)\n",
        "plot_distribution('texture_worst', .5)\n",
        "plot_distribution('perimeter_worst', 5)\n",
        "plot_distribution('area_worst', 10)\n",
        "#plot_distribution('smoothness_worst', .5)\n",
        "#plot_distribution('compactness_worst', .5)\n",
        "#plot_distribution('concavity_worst', .5)\n",
        "#plot_distribution('concave points_worst', .5)\n",
        "#plot_distribution('symmetry_worst', .5)\n",
        "#plot_distribution('fractal_dimension_worst', .5)"
      ],
      "execution_count": null,
      "outputs": []
    },
    {
      "cell_type": "markdown",
      "metadata": {
        "_uuid": "98947390d62a97f3183d8e47529674aaaae3a216",
        "id": "AX5aFgA6Nxq8",
        "colab_type": "text"
      },
      "source": [
        "## <a id='2.4'>2.4. Correlation matrix</a>"
      ]
    },
    {
      "cell_type": "code",
      "metadata": {
        "trusted": true,
        "_uuid": "fa36e13ef293456fd9ecff95ebba3cd517719c02",
        "id": "UcOGtJWkNxq-",
        "colab_type": "code",
        "colab": {}
      },
      "source": [
        "#correlation\n",
        "correlation = data.corr()\n",
        "#tick labels\n",
        "matrix_cols = correlation.columns.tolist()\n",
        "#convert to array\n",
        "corr_array  = np.array(correlation)"
      ],
      "execution_count": null,
      "outputs": []
    },
    {
      "cell_type": "code",
      "metadata": {
        "trusted": true,
        "_uuid": "f602da0cfbc683f80c8d6a813101e763a3177944",
        "id": "vRLJsjPuNxrD",
        "colab_type": "code",
        "colab": {}
      },
      "source": [
        "#Plotting\n",
        "trace = go.Heatmap(z = corr_array,\n",
        "                   x = matrix_cols,\n",
        "                   y = matrix_cols,\n",
        "                   xgap = 2,\n",
        "                   ygap = 2,\n",
        "                   colorscale='Viridis',\n",
        "                   colorbar   = dict() ,\n",
        "                  )\n",
        "layout = go.Layout(dict(title = 'Correlation Matrix for variables',\n",
        "                        autosize = False,\n",
        "                        height  = 720,\n",
        "                        width   = 800,\n",
        "                        margin  = dict(r = 0 ,l = 210,\n",
        "                                       t = 25,b = 210,\n",
        "                                     ),\n",
        "                        yaxis   = dict(tickfont = dict(size = 9)),\n",
        "                        xaxis   = dict(tickfont = dict(size = 9)),\n",
        "                       )\n",
        "                  )\n",
        "fig = go.Figure(data = [trace],layout = layout)\n",
        "py.iplot(fig)"
      ],
      "execution_count": null,
      "outputs": []
    },
    {
      "cell_type": "markdown",
      "metadata": {
        "_uuid": "3489cd97988cda623e35d70cff65b6b04dce145b",
        "id": "ynFjk9ogNxrI",
        "colab_type": "text"
      },
      "source": [
        "Let's check the correlation between few features by pair"
      ]
    },
    {
      "cell_type": "markdown",
      "metadata": {
        "_uuid": "98b8bd87f82dc038e1c31b46bb18465f9959bc27",
        "id": "fdz2Nd1ENxrK",
        "colab_type": "text"
      },
      "source": [
        "## <a id='2.6'>2.5. Positive correlated features</a> "
      ]
    },
    {
      "cell_type": "code",
      "metadata": {
        "trusted": true,
        "_uuid": "5447494248ed1776bda8f663b79bfaa715df1845",
        "id": "_eCv3v3sNxrL",
        "colab_type": "code",
        "colab": {}
      },
      "source": [
        "def plot_feat1_feat2(feat1, feat2) :  \n",
        "    trace0 = go.Scatter(\n",
        "        x = M[feat1],\n",
        "        y = M[feat2],\n",
        "        name = 'malignant',\n",
        "        mode = 'markers', \n",
        "        marker = dict(color = '#FFD700',\n",
        "            line = dict(\n",
        "                width = 1)))\n",
        "\n",
        "    trace1 = go.Scatter(\n",
        "        x = B[feat1],\n",
        "        y = B[feat2],\n",
        "        name = 'benign',\n",
        "        mode = 'markers',\n",
        "        marker = dict(color = '#7EC0EE',\n",
        "            line = dict(\n",
        "                width = 1)))\n",
        "\n",
        "    layout = dict(title = feat1 +\" \"+\"vs\"+\" \"+ feat2,\n",
        "                  yaxis = dict(title = feat2,zeroline = False),\n",
        "                  xaxis = dict(title = feat1, zeroline = False)\n",
        "                 )\n",
        "\n",
        "    plots = [trace0, trace1]\n",
        "\n",
        "    fig = dict(data = plots, layout=layout)\n",
        "    py.iplot(fig)"
      ],
      "execution_count": null,
      "outputs": []
    },
    {
      "cell_type": "code",
      "metadata": {
        "trusted": true,
        "_uuid": "fef0e63b29746a047560a054873952389b5bbe8c",
        "id": "WoO4sQKYNxrR",
        "colab_type": "code",
        "colab": {}
      },
      "source": [
        "plot_feat1_feat2('perimeter_mean','radius_worst')\n",
        "plot_feat1_feat2('area_mean','radius_worst')\n",
        "plot_feat1_feat2('texture_mean','texture_worst')\n",
        "plot_feat1_feat2('area_worst','radius_worst')"
      ],
      "execution_count": null,
      "outputs": []
    },
    {
      "cell_type": "code",
      "metadata": {
        "trusted": true,
        "_uuid": "21bd47463e049ece47c734377cf84b351701589e",
        "id": "dyIDMoQjNxrW",
        "colab_type": "code",
        "colab": {}
      },
      "source": [
        "#seaborn version : \n",
        "\n",
        "palette ={0 : 'lightblue', 1 : 'gold'}\n",
        "edgecolor = 'grey'\n",
        "\n",
        "# Plot +\n",
        "fig = plt.figure(figsize=(12,12))\n",
        "\n",
        "plt.subplot(221)\n",
        "ax1 = sns.scatterplot(x = data['perimeter_mean'], y = data['radius_worst'], hue = \"diagnosis\",\n",
        "                    data = data, palette = palette, edgecolor=edgecolor)\n",
        "plt.title('perimeter mean vs radius worst')\n",
        "plt.subplot(222)\n",
        "ax2 = sns.scatterplot(x = data['area_mean'], y = data['radius_worst'], hue = \"diagnosis\",\n",
        "                    data = data, palette =palette, edgecolor=edgecolor)\n",
        "plt.title('area mean vs radius worst')\n",
        "plt.subplot(223)\n",
        "ax3 = sns.scatterplot(x = data['texture_mean'], y = data['texture_worst'], hue = \"diagnosis\",\n",
        "                    data = data, palette =palette, edgecolor=edgecolor)\n",
        "plt.title('texture mean vs texture worst')\n",
        "plt.subplot(224)\n",
        "ax4 = sns.scatterplot(x = data['area_worst'], y = data['radius_worst'], hue = \"diagnosis\",\n",
        "                    data = data, palette =palette, edgecolor=edgecolor)\n",
        "plt.title('area mean vs radius worst')\n",
        "\n",
        "fig.suptitle('Positive correlated features', fontsize = 20)\n",
        "plt.savefig('1')\n",
        "plt.show()"
      ],
      "execution_count": null,
      "outputs": []
    },
    {
      "cell_type": "markdown",
      "metadata": {
        "_uuid": "aa0a9d548cff239069db950faf3a6981711f611f",
        "id": "-E5J2W88Nxrb",
        "colab_type": "text"
      },
      "source": [
        "## <a id='2.7'>2.6. Uncorrelated features</a>"
      ]
    },
    {
      "cell_type": "code",
      "metadata": {
        "trusted": true,
        "_uuid": "8de67a403172e3a676ff68cb9fcc12df69c73600",
        "id": "qZLTJTRmNxrc",
        "colab_type": "code",
        "colab": {}
      },
      "source": [
        "plot_feat1_feat2('smoothness_mean','texture_mean')\n",
        "plot_feat1_feat2('radius_mean','fractal_dimension_worst')\n",
        "plot_feat1_feat2('texture_mean','symmetry_mean')\n",
        "plot_feat1_feat2('texture_mean','symmetry_se')"
      ],
      "execution_count": null,
      "outputs": []
    },
    {
      "cell_type": "code",
      "metadata": {
        "trusted": true,
        "_uuid": "b075a27a35b621443fe0dc929574717a53272487",
        "id": "6ot8HnDrNxrg",
        "colab_type": "code",
        "colab": {}
      },
      "source": [
        "# seaborn version : \n",
        "fig = plt.figure(figsize=(12,12))\n",
        "\n",
        "plt.subplot(221)\n",
        "ax1 = sns.scatterplot(x = data['smoothness_mean'], y = data['texture_mean'], hue = \"diagnosis\",\n",
        "                    data = data, palette =palette, edgecolor=edgecolor)\n",
        "plt.title('smoothness mean vs texture mean')\n",
        "plt.subplot(222)\n",
        "ax2 = sns.scatterplot(x = data['radius_mean'], y = data['fractal_dimension_worst'], hue = \"diagnosis\",\n",
        "                    data = data, palette =palette, edgecolor=edgecolor)\n",
        "plt.title('radius mean vs fractal dimension_worst')\n",
        "plt.subplot(223)\n",
        "ax3 = sns.scatterplot(x = data['texture_mean'], y = data['symmetry_mean'], hue = \"diagnosis\",\n",
        "                    data = data, palette =palette, edgecolor=edgecolor)\n",
        "plt.title('texture mean vs symmetry mean')\n",
        "plt.subplot(224)\n",
        "ax4 = sns.scatterplot(x = data['texture_mean'], y = data['symmetry_se'], hue = \"diagnosis\",\n",
        "                    data = data, palette =palette, edgecolor=edgecolor)\n",
        "plt.title('texture mean vs symmetry se')\n",
        "\n",
        "fig.suptitle('Uncorrelated features', fontsize = 20)\n",
        "plt.savefig('2')\n",
        "plt.show()"
      ],
      "execution_count": null,
      "outputs": []
    },
    {
      "cell_type": "markdown",
      "metadata": {
        "_uuid": "6f464142a9658e8e38204dce59a265987e634ecb",
        "id": "TWWYvUB7Nxrl",
        "colab_type": "text"
      },
      "source": [
        "## <a id='2.7'>2.7. Negative correlated features</a>"
      ]
    },
    {
      "cell_type": "code",
      "metadata": {
        "trusted": true,
        "_uuid": "88bbcb5128256c135a75269272b68599872190bc",
        "id": "PYf6E2ysNxrm",
        "colab_type": "code",
        "colab": {}
      },
      "source": [
        "plot_feat1_feat2('area_mean','fractal_dimension_mean')\n",
        "plot_feat1_feat2('radius_mean','fractal_dimension_mean')\n",
        "plot_feat1_feat2('area_mean','smoothness_se')\n",
        "plot_feat1_feat2('smoothness_se','perimeter_mean')"
      ],
      "execution_count": null,
      "outputs": []
    },
    {
      "cell_type": "code",
      "metadata": {
        "trusted": true,
        "_uuid": "011f524dda2663c74359e8ba102259ce3d5f03f3",
        "id": "V5z9pEU0Nxrr",
        "colab_type": "code",
        "colab": {}
      },
      "source": [
        "# seaborn version\n",
        "fig = plt.figure(figsize=(12,12))\n",
        "\n",
        "plt.subplot(221)\n",
        "ax1 = sns.scatterplot(x = data['area_mean'], y = data['fractal_dimension_mean'], hue = \"diagnosis\",\n",
        "                    data = data, palette =palette, edgecolor=edgecolor)\n",
        "plt.title('smoothness mean vs fractal dimension mean')\n",
        "plt.subplot(222)\n",
        "ax2 = sns.scatterplot(x = data['radius_mean'], y = data['fractal_dimension_mean'], hue = \"diagnosis\",\n",
        "                    data = data, palette =palette, edgecolor=edgecolor)\n",
        "plt.title('radius mean vs fractal dimension mean')\n",
        "plt.subplot(223)\n",
        "ax2 = sns.scatterplot(x = data['area_mean'], y = data['smoothness_se'], hue = \"diagnosis\",\n",
        "                    data = data, palette =palette, edgecolor=edgecolor)\n",
        "plt.title('area mean vs fractal smoothness se')\n",
        "plt.subplot(224)\n",
        "ax2 = sns.scatterplot(x = data['smoothness_se'], y = data['perimeter_mean'], hue = \"diagnosis\",\n",
        "                    data = data, palette =palette, edgecolor=edgecolor)\n",
        "plt.title('smoothness se vs perimeter mean')\n",
        "\n",
        "fig.suptitle('Negative correlated features', fontsize = 20)\n",
        "plt.savefig('3')\n",
        "plt.show()"
      ],
      "execution_count": null,
      "outputs": []
    },
    {
      "cell_type": "markdown",
      "metadata": {
        "_uuid": "38de8c68f0d1ce0fea84f73e5589e47b425aea56",
        "id": "Gg-yI4jiNxrx",
        "colab_type": "text"
      },
      "source": [
        "# <a id='3'>3. Principal Component Analysis</a>"
      ]
    },
    {
      "cell_type": "markdown",
      "metadata": {
        "_uuid": "ea1feb97e327e65c302fb1837e02a44100d9ed0b",
        "id": "FAELdTsoNxry",
        "colab_type": "text"
      },
      "source": [
        "## <a href='#3.1'>3.1. Compute PCA</a>"
      ]
    },
    {
      "cell_type": "code",
      "metadata": {
        "trusted": true,
        "_uuid": "d248213d0fd7c12310a85fe21f1d58e5e84aee26",
        "id": "wfpKp5ZCNxrz",
        "colab_type": "code",
        "colab": {}
      },
      "source": [
        "target_pca = data['diagnosis']\n",
        "data_pca = data.drop('diagnosis', axis=1)\n",
        "\n",
        "target_pca = pd.DataFrame(target_pca)\n",
        "\n",
        "#To make a PCA, normalize data is essential\n",
        "X_pca = data_pca.values\n",
        "X_std = StandardScaler().fit_transform(X_pca)\n",
        "\n",
        "pca = PCA(svd_solver='full')\n",
        "pca_std = pca.fit(X_std, target_pca).transform(X_std)\n",
        "\n",
        "pca_std = pd.DataFrame(pca_std)\n",
        "pca_std = pca_std.merge(target_pca, left_index = True, right_index = True, how = 'left')\n",
        "pca_std['diagnosis'] = pca_std['diagnosis'].replace({1:'malignant',0:'benign'})"
      ],
      "execution_count": null,
      "outputs": []
    },
    {
      "cell_type": "markdown",
      "metadata": {
        "_uuid": "64f7bd854ac110a7c602f7018da86d22eb6177f2",
        "id": "zV4Jm6PWNxr4",
        "colab_type": "text"
      },
      "source": [
        "## <a id='3.2'>3.2. PCA pie plot with 6 components (88.8%)</a>"
      ]
    },
    {
      "cell_type": "code",
      "metadata": {
        "trusted": true,
        "_uuid": "6f6afff7522effbbdfff59ae44c9e5261d77629c",
        "id": "K35TYzz4Nxr5",
        "colab_type": "code",
        "colab": {}
      },
      "source": [
        "#explained_variance \n",
        "var_pca = pd.DataFrame(pca.explained_variance_ratio_)\n",
        "var_pca = var_pca.T\n",
        "\n",
        "#----------SUM AND DROP COMP [7:30]\n",
        "col_list = list(v for v in chain(pca_std.columns[6:30])) \n",
        "var_pca['OTHERS_COMP'] = var_pca[col_list].sum(axis=1)\n",
        "var_pca.drop(var_pca[col_list],axis=1,inplace=True)\n",
        "var_pca = var_pca.T"
      ],
      "execution_count": null,
      "outputs": []
    },
    {
      "cell_type": "code",
      "metadata": {
        "trusted": true,
        "_uuid": "4c0a7398ae6d073ac78cb7ac3c77698d96c30a89",
        "id": "fJ5geqCXNxr_",
        "colab_type": "code",
        "colab": {}
      },
      "source": [
        "labels = ['COMP1','COMP2','COMP3','COMP4','COMP5','COMP6', 'COMP7 - 30']\n",
        "colors = ['gold', 'lightgreen', 'lightcoral', 'lightskyblue', 'lightgrey', 'orange', 'white']\n",
        "\n",
        "trace = go.Pie(labels = labels, values = var_pca[0].values, opacity = 0.8,\n",
        "               textfont=dict(size=15),\n",
        "               marker=dict(colors=colors, \n",
        "                           line=dict(color='#000000', width=1.5)))\n",
        "\n",
        "\n",
        "layout = dict(title =  'PCA : components and explained variance (6 comp = 88.8%)')\n",
        " \n",
        "                   \n",
        "fig = dict(data = [trace], layout=layout)\n",
        "py.iplot(fig)"
      ],
      "execution_count": null,
      "outputs": []
    },
    {
      "cell_type": "markdown",
      "metadata": {
        "_uuid": "f0062a8de2c9b217834d221cc4bdf63de3179234",
        "id": "JX2bSbzVNxsD",
        "colab_type": "text"
      },
      "source": [
        "## <a id='3.2'>3.3. PCA scatter plot with 2 components (63.3%)</a>"
      ]
    },
    {
      "cell_type": "code",
      "metadata": {
        "trusted": true,
        "_uuid": "738916c7b98065ebbbfab75052e96e9d59573605",
        "id": "8E39Y3UaNxsE",
        "colab_type": "code",
        "colab": {}
      },
      "source": [
        "pca = PCA(n_components = 2)\n",
        "\n",
        "pca_std = pca.fit(X_std, target_pca).transform(X_std)\n",
        "pca_std = pd.DataFrame(pca_std,columns = ['COMP1','COMP2'])\n",
        "pca_std = pca_std.merge(target_pca,left_index = True,right_index = True,how = 'left')\n",
        "pca_std['diagnosis'] = pca_std['diagnosis'].replace({1:'malignant',0:'benign'})"
      ],
      "execution_count": null,
      "outputs": []
    },
    {
      "cell_type": "code",
      "metadata": {
        "trusted": true,
        "_uuid": "c33ceb6ececf72fd072766b7fb0bca9f7d1351f0",
        "id": "lgoeNhZ8NxsJ",
        "colab_type": "code",
        "colab": {}
      },
      "source": [
        "def pca_scatter(target,color) :\n",
        "    tracer = go.Scatter(x = pca_std[pca_std['diagnosis'] == target]['COMP1'] ,\n",
        "                        y = pca_std[pca_std['diagnosis'] == target]['COMP2'],\n",
        "                        name = target, mode = 'markers',\n",
        "                        marker = dict(color = color,line = dict(width = 1))\n",
        "                       )\n",
        "    return tracer\n",
        "layout = go.Layout(dict(title = 'PCA Scatter plot (2 comp = 63.3%)',\n",
        "                        xaxis = dict(gridcolor = 'rgb(255, 255, 255)',\n",
        "                                     title = 'COMP1 = 44.3%',\n",
        "                                     zerolinewidth=1,ticklen=5,gridwidth=2),\n",
        "                        yaxis = dict(gridcolor = 'rgb(255, 255, 255)',\n",
        "                                     title = 'COMP2 = 19.0%',\n",
        "                                     zerolinewidth=1,ticklen=5,gridwidth=2),\n",
        "                        height = 800\n",
        "                       ))\n",
        "trace1 = pca_scatter('malignant','#FFD700')\n",
        "trace2 = pca_scatter('benign','#7EC0EE')\n",
        "plots = [trace2,trace1]\n",
        "fig = go.Figure(data = plots,layout = layout)\n",
        "py.iplot(fig)"
      ],
      "execution_count": null,
      "outputs": []
    },
    {
      "cell_type": "markdown",
      "metadata": {
        "_uuid": "d0864cd5320f905f924d7b229c0cc2e4be2fd1f7",
        "id": "LBTdidk3NxsQ",
        "colab_type": "text"
      },
      "source": [
        "## <a id='#3.3'>3.4. PCA scatter plot with 3 components (72.7%)</a>"
      ]
    },
    {
      "cell_type": "code",
      "metadata": {
        "trusted": true,
        "_uuid": "24fc3b1c32b579b850c88ec31008f5bae780f72c",
        "id": "3vd4ilYYNxsR",
        "colab_type": "code",
        "colab": {}
      },
      "source": [
        "pca = PCA(n_components = 3)\n",
        "pca_std = pca.fit(X_std, target_pca).transform(X_std)\n",
        "\n",
        "pca_std = pd.DataFrame(pca_std,columns = ['COMP1','COMP2','COMP3'])\n",
        "pca_std = pca_std.merge(target_pca, left_index = True, right_index = True,how = 'left')\n",
        "pca_std['diagnosis'] = pca_std['diagnosis'].replace({1:'malignant',0:'benign'})"
      ],
      "execution_count": null,
      "outputs": []
    },
    {
      "cell_type": "code",
      "metadata": {
        "trusted": true,
        "_uuid": "aeec2254d516fc97bf9e771c09ecd1f6c12d9910",
        "id": "3Vz_vXfYNxsV",
        "colab_type": "code",
        "colab": {}
      },
      "source": [
        "M_pca = pca_std[(pca_std['diagnosis'] == 'malignant')]\n",
        "B_pca = pca_std[(pca_std['diagnosis'] == 'benign')]"
      ],
      "execution_count": null,
      "outputs": []
    },
    {
      "cell_type": "code",
      "metadata": {
        "trusted": true,
        "_uuid": "512f83aed519f3067f7c46aa45d5ada487d09dc7",
        "id": "OuYTUyzZNxsa",
        "colab_type": "code",
        "colab": {}
      },
      "source": [
        "trace1 = go.Scatter3d(x = M_pca['COMP1'],\n",
        "                      y = M_pca['COMP3'],\n",
        "                      z = M_pca['COMP2'],\n",
        "                      mode = \"markers\",\n",
        "                      name = \"malignant\",\n",
        "                      marker = dict(size = 4,color = '#FFD700',line = dict(width = 1))\n",
        "                     )\n",
        "trace2 = go.Scatter3d(x = B_pca['COMP1'],\n",
        "                      y = B_pca['COMP3'],\n",
        "                      z = B_pca['COMP2'],\n",
        "                      name = 'benign',\n",
        "                      mode = 'markers',\n",
        "                      marker = dict(size = 4,color= '#7EC0EE',line = dict(width = 1))\n",
        "                     )\n",
        "\n",
        "\n",
        "\n",
        "layout = go.Layout(dict(title = 'PCA Scatter plot (3 comp = 72.7%)',\n",
        "                        scene = dict(camera = dict(up=dict(x= 0 , y=0, z=0),\n",
        "                                                   center=dict(x=0, y=0, z=0),\n",
        "                                                   eye=dict(x=1.25, y=1.25, z=1.25)),\n",
        "                                     xaxis  = dict(title = 'COMP1',\n",
        "                                                   gridcolor='rgb(255, 255, 255)',\n",
        "                                                   zerolinecolor='rgb(255, 255, 255)',\n",
        "                                                   showbackground=True,\n",
        "                                                   backgroundcolor='rgb(230, 230,230)'),\n",
        "                                     yaxis  = dict(title = 'COMP3',\n",
        "                                                   gridcolor='rgb(255, 255, 255)',\n",
        "                                                   zerolinecolor='rgb(255, 255, 255)',\n",
        "                                                   showbackground=True,\n",
        "                                                   backgroundcolor='rgb(230, 230,230)'\n",
        "                                                  ),\n",
        "                                     zaxis  = dict(title = 'COMP2',\n",
        "                                                   gridcolor='rgb(255, 255, 255)',\n",
        "                                                   zerolinecolor='rgb(255, 255, 255)',\n",
        "                                                   showbackground=True,\n",
        "                                                   backgroundcolor='rgb(230, 230,230)'\n",
        "                                                  )),height = 700))\n",
        "                  \n",
        "\n",
        "plots = [trace1,trace2]\n",
        "fig  = go.Figure(data = plots,layout = layout)\n",
        "py.iplot(fig)"
      ],
      "execution_count": null,
      "outputs": []
    },
    {
      "cell_type": "markdown",
      "metadata": {
        "_uuid": "b69f2000f09a3103a5e1e35ddb3f2b422e7d1dfd",
        "id": "KbGT2a3JNxsf",
        "colab_type": "text"
      },
      "source": [
        "# <a id='4'>4. Define functions</a>"
      ]
    },
    {
      "cell_type": "markdown",
      "metadata": {
        "_uuid": "bdfa788ce79a199c10cc11c4ee98444f82eeb981",
        "id": "IU8p1bPINxsg",
        "colab_type": "text"
      },
      "source": [
        "This part is essential to measure the performance of a model : roc, cross validation, learning curve ..."
      ]
    },
    {
      "cell_type": "markdown",
      "metadata": {
        "_uuid": "b6c37e1a82681670876ce56c0132eb5506ef004f",
        "id": "pa_XDGnKNxsh",
        "colab_type": "text"
      },
      "source": [
        "## <a id='4.1'>4.1. Confusion matrix and show metrics</a>"
      ]
    },
    {
      "cell_type": "markdown",
      "metadata": {
        "_uuid": "952162610d222a1a6918804da75f451f957bcf9a",
        "id": "USJqR76FNxsi",
        "colab_type": "text"
      },
      "source": [
        "The confusion matrix, also known as the error matrix, allows visualization of the performance of an algorithm :\n",
        "* true positive (TP) : Malignant tumour correctly identified as malignant\n",
        "* true negative (TN) : Benign tumour correctly identified as benign\n",
        "* false positive (FP) : Benign tumour incorrectly identified as malignant \n",
        "* false negative (FN) : Malignant tumour incorrectly identified as benign\n",
        "\n",
        "Metrics : \n",
        "* Accuracy : (TP +TN) / (TP + TN + FP +FN)\n",
        "* Precision : TP / (TP + FP)\n",
        "* Recall : TP / (TP + FN)\n"
      ]
    },
    {
      "cell_type": "code",
      "metadata": {
        "trusted": true,
        "_uuid": "80b76823aa878dabe5bd58d41d4b4ea4187c00c1",
        "id": "cD9MnwJ5Nxsj",
        "colab_type": "code",
        "colab": {}
      },
      "source": [
        "# Confusion matrix \n",
        "def plot_confusion_matrix(cm, classes,\n",
        "                          normalize = False,\n",
        "                          title = 'Confusion matrix\"',\n",
        "                          cmap = plt.cm.Blues) :\n",
        "    plt.imshow(cm, interpolation = 'nearest', cmap = cmap)\n",
        "    plt.title(title)\n",
        "    plt.colorbar()\n",
        "    tick_marks = np.arange(len(classes))\n",
        "    plt.xticks(tick_marks, classes, rotation = 0)\n",
        "    plt.yticks(tick_marks, classes)\n",
        "\n",
        "    thresh = cm.max() / 2.\n",
        "    for i, j in itertools.product(range(cm.shape[0]), range(cm.shape[1])) :\n",
        "        plt.text(j, i, cm[i, j],\n",
        "                 horizontalalignment = 'center',\n",
        "                 color = 'white' if cm[i, j] > thresh else 'black')\n",
        "\n",
        "    plt.tight_layout()\n",
        "    plt.ylabel('True label')\n",
        "    plt.xlabel('Predicted label')\n",
        "    \n",
        "# Show metrics \n",
        "def show_metrics():\n",
        "    tp = cm[1,1]\n",
        "    fn = cm[1,0]\n",
        "    fp = cm[0,1]\n",
        "    tn = cm[0,0]\n",
        "    print('Accuracy  =     {:.3f}'.format((tp+tn)/(tp+tn+fp+fn)))\n",
        "    print('Precision =     {:.3f}'.format(tp/(tp+fp)))\n",
        "    print('Recall    =     {:.3f}'.format(tp/(tp+fn)))\n",
        "    print('F1_score  =     {:.3f}'.format(2*(((tp/(tp+fp))*(tp/(tp+fn)))/\n",
        "                                                 ((tp/(tp+fp))+(tp/(tp+fn))))))"
      ],
      "execution_count": null,
      "outputs": []
    },
    {
      "cell_type": "markdown",
      "metadata": {
        "_uuid": "531e74659b6acf9939c113aeac823ea68a979906",
        "id": "C_8aqdxHNxso",
        "colab_type": "text"
      },
      "source": [
        "## <a id='4.2'>4.2. Precision – Recall curve</a>"
      ]
    },
    {
      "cell_type": "markdown",
      "metadata": {
        "_uuid": "1c7f3b31043056f5e796be35b4b54b6d664865ad",
        "id": "Nq_izOngNxsp",
        "colab_type": "text"
      },
      "source": [
        "The precision-recall curve shows the tradeoff between precision and recall for different threshold"
      ]
    },
    {
      "cell_type": "code",
      "metadata": {
        "trusted": true,
        "_uuid": "ba0695472427ea70ee8dd6905c657a6952723141",
        "id": "1YvVzlHwNxsp",
        "colab_type": "code",
        "colab": {}
      },
      "source": [
        "# Precision-recall curve\n",
        "def plot_precision_recall():\n",
        "    plt.step(recall, precision, color = 'b', alpha = 0.2,\n",
        "             where = 'post')\n",
        "    plt.fill_between(recall, precision, step ='post', alpha = 0.2,\n",
        "                 color = 'b')\n",
        "\n",
        "    plt.plot(recall, precision, linewidth=2)\n",
        "    plt.xlim([0.0,1])\n",
        "    plt.ylim([0.0,1.05])\n",
        "    plt.xlabel('Recall')\n",
        "    plt.ylabel('Precision')\n",
        "    plt.title('Precision Recall Curve')\n",
        "    plt.show();"
      ],
      "execution_count": null,
      "outputs": []
    },
    {
      "cell_type": "markdown",
      "metadata": {
        "_uuid": "a915b365812fd0f98cf0e8b18ad540015f8380f7",
        "id": "5J7YcPAINxsu",
        "colab_type": "text"
      },
      "source": [
        "## <a id='4.3'>4.3. ROC curve</a>"
      ]
    },
    {
      "cell_type": "markdown",
      "metadata": {
        "_uuid": "b4beae272e3956bbd5db2a301a8019c60da44715",
        "id": "Bj3O_l-FNxsv",
        "colab_type": "text"
      },
      "source": [
        "The ROC curve is created by plotting the true positive rate (TPR) against the false positive rate (FPR) at various threshold settings."
      ]
    },
    {
      "cell_type": "code",
      "metadata": {
        "trusted": true,
        "_uuid": "665e1e5ac0614dddb64aaa06204cdb1788fe2692",
        "id": "445uNbxRNxsw",
        "colab_type": "code",
        "colab": {}
      },
      "source": [
        "# ROC curve\n",
        "def plot_roc():\n",
        "    plt.plot(fpr, tpr, label = 'ROC curve', linewidth = 2)\n",
        "    plt.plot([0,1],[0,1], 'k--', linewidth = 2)\n",
        "   # plt.xlim([0.0,0.001])\n",
        "   # plt.ylim([0.0,1.05])\n",
        "    plt.xlabel('False Positive Rate')\n",
        "    plt.ylabel('True Positive Rate')\n",
        "    plt.title('ROC Curve')\n",
        "    plt.show();"
      ],
      "execution_count": null,
      "outputs": []
    },
    {
      "cell_type": "markdown",
      "metadata": {
        "_uuid": "6b44ce26b6bbc8b23a024a4dd6960fdeb5d11804",
        "id": "btQ8UHjuNxs0",
        "colab_type": "text"
      },
      "source": [
        "## <a id='4.4'>4.4. Learning curve</a>"
      ]
    },
    {
      "cell_type": "markdown",
      "metadata": {
        "_uuid": "10896331a5279a947d32a65319bd0541dfd15ec3",
        "id": "kbhsnkxPNxs1",
        "colab_type": "text"
      },
      "source": [
        "The Learning curve determines cross-validated training and test scores."
      ]
    },
    {
      "cell_type": "code",
      "metadata": {
        "trusted": true,
        "_uuid": "bdb2bf2373a2202311131696847fb52155e23541",
        "id": "8pY9WAkdNxs2",
        "colab_type": "code",
        "colab": {}
      },
      "source": [
        "# Learning curve\n",
        "def plot_learning_curve(estimator, title, X, y, ylim = None, cv = None,\n",
        "                        n_jobs = 1, train_sizes = np.linspace(.1, 1.0, 5)):\n",
        "    \"\"\"\n",
        "    Plots a learning curve. http://scikit-learn.org/stable/modules/learning_curve.html\n",
        "    \"\"\"\n",
        "    plt.figure()\n",
        "    plt.title(title)\n",
        "    if ylim is not None:\n",
        "        plt.ylim(*ylim)\n",
        "    plt.xlabel('Training examples')\n",
        "    plt.ylabel('Score')\n",
        "    train_sizes, train_scores, test_scores = learning_curve(\n",
        "        estimator, X, y, cv = cv, n_jobs = n_jobs, train_sizes = train_sizes)\n",
        "    train_scores_mean = np.mean(train_scores, axis = 1)\n",
        "    train_scores_std = np.std(train_scores, axis = 1)\n",
        "    test_scores_mean = np.mean(test_scores, axis = 1)\n",
        "    test_scores_std = np.std(test_scores, axis = 1)\n",
        "    plt.grid()\n",
        "    plt.fill_between(train_sizes, train_scores_mean - train_scores_std,\n",
        "                     train_scores_mean + train_scores_std, alpha=0.1,\n",
        "                     color=\"r\")\n",
        "    plt.fill_between(train_sizes, test_scores_mean - test_scores_std,\n",
        "                     test_scores_mean + test_scores_std, alpha = 0.1, color = \"g\")\n",
        "    plt.plot(train_sizes, train_scores_mean, 'o-', color = \"r\",\n",
        "             label = \"Training score\")\n",
        "    plt.plot(train_sizes, test_scores_mean, 'o-', color = \"g\",\n",
        "             label = \"Cross-validation score\")\n",
        "    plt.legend(loc = \"best\")\n",
        "    return plt"
      ],
      "execution_count": null,
      "outputs": []
    },
    {
      "cell_type": "markdown",
      "metadata": {
        "_uuid": "8269bd8e17005bc2753fcb5f9786560e8ae7a5ff",
        "id": "UDTPj6T3Nxs7",
        "colab_type": "text"
      },
      "source": [
        " ## <a id='4.5'>4.5. Cross validation metrics</a>"
      ]
    },
    {
      "cell_type": "markdown",
      "metadata": {
        "_uuid": "29be828bfca207848df16fc9d1086804f7f98d3e",
        "id": "R2aF-YB4Nxs8",
        "colab_type": "text"
      },
      "source": [
        "Cross-validation is a technique to evaluate predictive models by partitioning the original sample into a training set to train the model, and a test set to evaluate it. "
      ]
    },
    {
      "cell_type": "code",
      "metadata": {
        "trusted": true,
        "_uuid": "5167ea79d4fee3776082fce10fc8c85795f8115a",
        "id": "lHrn1T5jNxs9",
        "colab_type": "code",
        "colab": {}
      },
      "source": [
        "# Cross val metric\n",
        "def cross_val_metrics(model) :\n",
        "    scores = ['accuracy', 'precision', 'recall']\n",
        "    for sc in scores:\n",
        "        scores = cross_val_score(model, X, y, cv = 5, scoring = sc)\n",
        "        print('[%s] : %0.5f (+/- %0.5f)'%(sc, scores.mean(), scores.std()))"
      ],
      "execution_count": null,
      "outputs": []
    },
    {
      "cell_type": "markdown",
      "metadata": {
        "_uuid": "ec3594e7674d9d28634b2da7e7446598e8377705",
        "id": "D2KUdlCVNxtF",
        "colab_type": "text"
      },
      "source": [
        "# <a id='5'>5. Prepare dataset</a>"
      ]
    },
    {
      "cell_type": "markdown",
      "metadata": {
        "_uuid": "a1dbc3d639be60dd6c79b64722ef56fd90f63f84",
        "id": "3OecAzt6NxtH",
        "colab_type": "text"
      },
      "source": [
        "## <a id='5.1'>5.1. Define (X,  y)</a>"
      ]
    },
    {
      "cell_type": "markdown",
      "metadata": {
        "_uuid": "0b2489631c8e22b7a2a4b920e2f3d97b09db86c7",
        "id": "hN0Jwgv5NxtI",
        "colab_type": "text"
      },
      "source": [
        "* y = diagnosis (target)\n",
        "* X = features (radius_mean, area_se, ....) \n"
      ]
    },
    {
      "cell_type": "code",
      "metadata": {
        "trusted": true,
        "_uuid": "795455398b0a632d31cc35df2ad6302d4dff1f4c",
        "id": "87yKPfkWNxtJ",
        "colab_type": "code",
        "colab": {}
      },
      "source": [
        "# Def X and Y\n",
        "y = np.array(data.diagnosis.tolist())\n",
        "data = data.drop('diagnosis', 1)\n",
        "X = np.array(data.as_matrix())"
      ],
      "execution_count": null,
      "outputs": []
    },
    {
      "cell_type": "markdown",
      "metadata": {
        "_uuid": "cb43130e98c126bac1482e2032a6302bcd691e75",
        "id": "E84-p3zENxtP",
        "colab_type": "text"
      },
      "source": [
        "## <a id='5.2'>5.2. Standard scaler (X)</a>"
      ]
    },
    {
      "cell_type": "markdown",
      "metadata": {
        "_uuid": "d68bc3bc8b01568c9ff9d682aeb4ba161fa033f4",
        "id": "EJnUqK4hNxtQ",
        "colab_type": "text"
      },
      "source": [
        "Why do you need to standardize your data ?  For example, a variable that ranges between 0 and 100 will outweigh a variable that ranges between 0 and 1. Using these variables without standardization in effect gives the variable with the larger range a bigger weight in the analysis"
      ]
    },
    {
      "cell_type": "code",
      "metadata": {
        "trusted": true,
        "_uuid": "472146c22b27a8b6488f37a3540d7c7a032120af",
        "id": "T_mWcHajNxtR",
        "colab_type": "code",
        "colab": {}
      },
      "source": [
        "# Normalization\n",
        "scaler = StandardScaler()\n",
        "X = scaler.fit_transform(X)"
      ],
      "execution_count": null,
      "outputs": []
    },
    {
      "cell_type": "markdown",
      "metadata": {
        "_uuid": "4056bc93ba39efa420595caf47bbc4b234b29467",
        "id": "ayDYp3NkNxtX",
        "colab_type": "text"
      },
      "source": [
        "## <a id='5.3'>5.3. Train test split</a>"
      ]
    },
    {
      "cell_type": "code",
      "metadata": {
        "trusted": true,
        "_uuid": "ca7ac96b655e461d1435d8e2610a1035a27b211e",
        "id": "B1YcE1pJNxtY",
        "colab_type": "code",
        "colab": {}
      },
      "source": [
        "# Train_test split\n",
        "random_state = 42\n",
        "X_train, X_test, y_train, y_test = train_test_split(X, y, test_size = 0.12, random_state = random_state)"
      ],
      "execution_count": null,
      "outputs": []
    },
    {
      "cell_type": "markdown",
      "metadata": {
        "_uuid": "e3a0ca7396cbd4a8ccb27165f9d23897579d49f0",
        "id": "ePJU8c3aNxtd",
        "colab_type": "text"
      },
      "source": [
        " # <a id='6'>6. Predictive model : Logistic Regression</a>"
      ]
    },
    {
      "cell_type": "markdown",
      "metadata": {
        "_uuid": "4373097ed8911ce8d5ff6d6939f863e61fae5eea",
        "id": "_y2YNbfbNxte",
        "colab_type": "text"
      },
      "source": [
        "## <a id='6.1'>6.1. Logistic Regression  and GridSearch CV to optimise hyperparameters (accuracy)</a>"
      ]
    },
    {
      "cell_type": "code",
      "metadata": {
        "trusted": true,
        "_uuid": "1bebe8e16f0c4c49238c1b44dadb191ab2ca1329",
        "id": "O10lsjQPNxtg",
        "colab_type": "code",
        "colab": {}
      },
      "source": [
        "# Find best hyperparameters (accuracy)\n",
        "log_clf = LogisticRegression(random_state = random_state)\n",
        "param_grid = {\n",
        "            'penalty' : ['l2','l1'],  \n",
        "            'C' : [0.001, 0.01, 0.1, 1, 10, 100, 1000]\n",
        "            }\n",
        "\n",
        "CV_log_clf = GridSearchCV(estimator = log_clf, param_grid = param_grid , scoring = 'accuracy', verbose = 1, n_jobs = -1)\n",
        "CV_log_clf.fit(X_train, y_train)\n",
        "\n",
        "best_parameters = CV_log_clf.best_params_\n",
        "print('The best parameters for using this model is', best_parameters)"
      ],
      "execution_count": null,
      "outputs": []
    },
    {
      "cell_type": "code",
      "metadata": {
        "trusted": true,
        "_uuid": "541922fc782d556919d4591e09ba6474421644d4",
        "id": "erElrShSNxtl",
        "colab_type": "code",
        "colab": {}
      },
      "source": [
        "#Log with best hyperparameters\n",
        "CV_log_clf = LogisticRegression(C = best_parameters['C'], \n",
        "                                penalty = best_parameters['penalty'], \n",
        "                                random_state = random_state)\n",
        "\n",
        "CV_log_clf.fit(X_train, y_train)\n",
        "y_pred = CV_log_clf.predict(X_test)\n",
        "y_score = CV_log_clf.decision_function(X_test)\n",
        "\n",
        "# Confusion maxtrix & metrics\n",
        "cm = confusion_matrix(y_test, y_pred)\n",
        "class_names = [0,1]\n",
        "plt.figure()\n",
        "plot_confusion_matrix(cm, \n",
        "                      classes=class_names, \n",
        "                      title='Logistic Confusion matrix')\n",
        "plt.savefig('6')\n",
        "plt.show()\n",
        "\n",
        "show_metrics()\n",
        "\n",
        "# ROC curve\n",
        "fpr, tpr, t = roc_curve(y_test, y_score)\n",
        "plot_roc()"
      ],
      "execution_count": null,
      "outputs": []
    },
    {
      "cell_type": "markdown",
      "metadata": {
        "_uuid": "61f2e78c999dcfc042b07cc885450249f5b74528",
        "id": "FQqp8OoPNxtq",
        "colab_type": "text"
      },
      "source": [
        "## <a id='6.2'>6.2. RFE : Recursive features elimination (30 features => 15 features)</a>"
      ]
    },
    {
      "cell_type": "markdown",
      "metadata": {
        "_uuid": "5e70db3b98866d9130294ed14704c9245a4be0d3",
        "id": "vOHhCUq0Nxtr",
        "colab_type": "text"
      },
      "source": [
        "Recursive feature elimination (RFE) is a feature selection method that fits a model and removes the weakest feature (or features) until the specified number of features is reached. Features are ranked by the model’s coef_ or feature_importances_"
      ]
    },
    {
      "cell_type": "code",
      "metadata": {
        "trusted": true,
        "_uuid": "39a684d76e41a494105c2b912d5a90324d357a5f",
        "id": "Bh2CyYOdNxtr",
        "colab_type": "code",
        "colab": {}
      },
      "source": [
        "#Logistic regression with RFE\n",
        "log_clf = LogisticRegression(C = best_parameters['C'], \n",
        "                                 penalty = best_parameters['penalty'], \n",
        "                                 random_state = random_state)\n",
        "\n",
        "selector = RFE(log_clf)\n",
        "selector = selector.fit(X_train, y_train)\n",
        "\n",
        "y_pred = selector.predict(X_test)\n",
        "y_score = selector.predict_proba(X_test)[:,1]\n",
        "\n",
        "\n",
        "# Confusion maxtrix & metrics\n",
        "cm = confusion_matrix(y_test, y_pred)\n",
        "class_names = [0,1]\n",
        "plt.figure()\n",
        "plot_confusion_matrix(cm, \n",
        "                      classes=class_names, \n",
        "                      title='Logistic Confusion matrix')\n",
        "plt.show()\n",
        "\n",
        "show_metrics()\n",
        "\n",
        "# ROC curve\n",
        "fpr, tpr, t = roc_curve(y_test, y_score)\n",
        "plot_roc()"
      ],
      "execution_count": null,
      "outputs": []
    },
    {
      "cell_type": "code",
      "metadata": {
        "trusted": true,
        "_uuid": "0951d920a49dd7475c9b2163ffd951571f133506",
        "id": "GTfCO-uHNxt5",
        "colab_type": "code",
        "colab": {}
      },
      "source": [
        "# support and ranking RFE\n",
        "print(selector.support_)\n",
        "print(selector.ranking_)"
      ],
      "execution_count": null,
      "outputs": []
    },
    {
      "cell_type": "markdown",
      "metadata": {
        "_uuid": "09c255239d67d99c1326ac4b17beda758ad9cb20",
        "id": "6oxOhE_lNxuB",
        "colab_type": "text"
      },
      "source": [
        "## <a id='6.3'>6.3. Compare learning curves and cross validation scores</a> "
      ]
    },
    {
      "cell_type": "code",
      "metadata": {
        "trusted": true,
        "_uuid": "4226ac1abd0f0ae181267192b3316184c687fa95",
        "id": "H2XKz0_bNxuC",
        "colab_type": "code",
        "colab": {}
      },
      "source": [
        "#Learning curve Log with best hyperpara\n",
        "plot_learning_curve(CV_log_clf, 'Learning Curve For Logistic Model', X, y, (0.85,1.05), 10)\n",
        "plt.savefig('7')\n",
        "plt.show()"
      ],
      "execution_count": null,
      "outputs": []
    },
    {
      "cell_type": "code",
      "metadata": {
        "trusted": true,
        "_uuid": "b6b3a4576e68f4b9d07577f28a49e7523ec5591a",
        "id": "VqMUbTrcNxuH",
        "colab_type": "code",
        "colab": {}
      },
      "source": [
        "#Learning curve Log with RFE\n",
        "plot_learning_curve(selector, 'Learning Curve For Logistic Model with RFE', X, y, (0.85,1.05), 10)\n",
        "plt.show()"
      ],
      "execution_count": null,
      "outputs": []
    },
    {
      "cell_type": "code",
      "metadata": {
        "trusted": true,
        "_uuid": "02ed1584111fb318e86ee60e34ea97e2e307e9af",
        "id": "GQc2kf8rNxuN",
        "colab_type": "code",
        "colab": {}
      },
      "source": [
        "# Cross val Log \n",
        "cross_log = cross_val_metrics(CV_log_clf)"
      ],
      "execution_count": null,
      "outputs": []
    },
    {
      "cell_type": "code",
      "metadata": {
        "trusted": true,
        "_uuid": "9e4bbec5c8b82ce1bc6816e1b042c5495e5b9b81",
        "id": "LYtF2_82NxuV",
        "colab_type": "code",
        "colab": {}
      },
      "source": [
        "# Cross val Log with RFE\n",
        "cross_selector = cross_val_metrics(selector)"
      ],
      "execution_count": null,
      "outputs": []
    },
    {
      "cell_type": "markdown",
      "metadata": {
        "_uuid": "5cecbc77d7b31d143978cc047e954c83b8e12b6c",
        "id": "ypPQeFdzNxuc",
        "colab_type": "text"
      },
      "source": [
        "With only 15 features and 5 folds, we got an accuracy of 97.4 with a standard deviation of 0.78.\n",
        "To follow, we don't use the selector, the log cfl is most performant but the code is here for you :)"
      ]
    },
    {
      "cell_type": "markdown",
      "metadata": {
        "_uuid": "0f981c14a17ef213e50e96e98852399717e6da1f",
        "id": "T1nlX_jCNxud",
        "colab_type": "text"
      },
      "source": [
        "## <a href='#6.4'>6.4. Select threshold for a recall = 100% (all malignant tumors detected)</a>"
      ]
    },
    {
      "cell_type": "markdown",
      "metadata": {
        "_uuid": "042c961453817f3d5a6f9fdecdd44131321d32d1",
        "id": "C1xVLjshNxue",
        "colab_type": "text"
      },
      "source": [
        "For this study, the most important is to detect all malignants tumours. "
      ]
    },
    {
      "cell_type": "code",
      "metadata": {
        "trusted": true,
        "_uuid": "e86fa1dc65a3e189c97a4f83ebc7350d8071a6fd",
        "id": "rwhNNkXANxuf",
        "colab_type": "code",
        "colab": {}
      },
      "source": [
        "# Threshold\n",
        "thresholds_adj = [0.1,0.2,0.3,0.4,0.5,0.6,0.7,0.8,0.9]\n",
        "\n",
        "plt.figure(figsize = (15,15))\n",
        "\n",
        "j = 1\n",
        "for i in thresholds_adj:\n",
        "    y_score = CV_log_clf.predict_proba(X_test)[:,1] > i\n",
        "    \n",
        "    \n",
        "    plt.subplot(3,3,j)\n",
        "    j += 1\n",
        "    \n",
        "    cm = confusion_matrix(y_test, y_score)\n",
        "    \n",
        "    tp = cm[1,1]\n",
        "    fn = cm[1,0]\n",
        "    fp = cm[0,1]\n",
        "    tn = cm[0,0]\n",
        "\n",
        "    print('Recall w/ threshold = %s :'%i, (tp/(tp+fn)))\n",
        "    \n",
        "    class_names = [0,1]\n",
        "    plot_confusion_matrix(cm, \n",
        "                          classes=class_names, \n",
        "                          title='Threshold = %s'%i) "
      ],
      "execution_count": null,
      "outputs": []
    },
    {
      "cell_type": "markdown",
      "metadata": {
        "_uuid": "13d54c1cdd3f21a1a3093b92574bd5b0675f28dc",
        "id": "unW1iHgxNxun",
        "colab_type": "text"
      },
      "source": [
        "## <a href='#6.5'>6.5. Predicting with recall = 100%</a>"
      ]
    },
    {
      "cell_type": "code",
      "metadata": {
        "trusted": true,
        "_uuid": "f219c233e0e897e4e02fcb6523e61d56bb9deef8",
        "id": "YRZB9EW8Nxun",
        "colab_type": "code",
        "colab": {}
      },
      "source": [
        "# Recall = 1.\n",
        "y_score = CV_log_clf.predict_proba(X_test)[:,1] > 0.1\n",
        "cm = confusion_matrix(y_test, y_score)\n",
        "class_names = [0,1]\n",
        "show_metrics()"
      ],
      "execution_count": null,
      "outputs": []
    },
    {
      "cell_type": "markdown",
      "metadata": {
        "_uuid": "6937b56add7c48089ce10e9f47e48274cdfc4e9e",
        "id": "FPx6JHrrNxur",
        "colab_type": "text"
      },
      "source": [
        "With 2 models we can increase the precision while keeping a recall = 100%"
      ]
    },
    {
      "cell_type": "markdown",
      "metadata": {
        "_uuid": "e6719364aab45376a953e0454f78c27f841b6c50",
        "id": "lplhLnVgNxus",
        "colab_type": "text"
      },
      "source": [
        " # <a id='7'>7. Predictive model 2 : Ensemble Classifier to maximise precision and detect all malignant tumors</a>"
      ]
    },
    {
      "cell_type": "markdown",
      "metadata": {
        "_uuid": "e45f5dc5ab13f247cbfe065699528babc753f27e",
        "id": "5py4yMBhNxut",
        "colab_type": "text"
      },
      "source": [
        "## <a id='7.1'>7.1. Logistic Regression  and GridSearch CV to optimise hyperparameters (recall)</a>"
      ]
    },
    {
      "cell_type": "code",
      "metadata": {
        "trusted": true,
        "_uuid": "fcca7ed0c1c44fb512ac307b61a2f9bbed94d199",
        "id": "YT9Z-WY5Nxuu",
        "colab_type": "code",
        "colab": {}
      },
      "source": [
        "# Find the best parameters (recall)\n",
        "log2_clf = LogisticRegression(random_state = random_state)\n",
        "param_grid = {\n",
        "            'penalty' : ['l2','l1'],  \n",
        "            'C' : [0.001, 0.01, 0.1, 1, 10, 100, 1000],\n",
        "            }\n",
        "\n",
        "CV_log2_clf = GridSearchCV(estimator = log2_clf, param_grid = param_grid , scoring = 'recall', verbose = 1, n_jobs = -1)\n",
        "CV_log2_clf.fit(X_train, y_train)\n",
        "\n",
        "best_parameters = CV_log2_clf.best_params_\n",
        "print('The best parameters for using this model is', best_parameters)"
      ],
      "execution_count": null,
      "outputs": []
    },
    {
      "cell_type": "code",
      "metadata": {
        "trusted": true,
        "_uuid": "d7179004ca27934995154f2c697f389cefeaef3b",
        "id": "tmKURrJ_Nxuy",
        "colab_type": "code",
        "colab": {}
      },
      "source": [
        "# Log w best hyperparameters (recall)\n",
        "CV_log2_clf = LogisticRegression(C = best_parameters['C'], \n",
        "                                 penalty = best_parameters['penalty'], \n",
        "                                 random_state = random_state)\n",
        "\n",
        "\n",
        "CV_log2_clf.fit(X_train, y_train)\n",
        "\n",
        "y_pred = CV_log2_clf.predict(X_test)\n",
        "y_score = CV_log2_clf.decision_function(X_test)\n",
        "# Confusion maxtrix & metrics\n",
        "cm = confusion_matrix(y_test, y_pred)\n",
        "class_names = [0,1]"
      ],
      "execution_count": null,
      "outputs": []
    },
    {
      "cell_type": "markdown",
      "metadata": {
        "_uuid": "45ee78b87a412b69f467d3f17e4812c6cb78537f",
        "id": "GvvpfVvUNxu5",
        "colab_type": "text"
      },
      "source": [
        "* Grid search CV accuracy, penalty = l2\n",
        "* Grid search CV recall,  penalty = l1"
      ]
    },
    {
      "cell_type": "code",
      "metadata": {
        "trusted": true,
        "_uuid": "ffa21f334bf40232704cd88722d1a03ca2c6a11b",
        "id": "n4LH2s3hNxu7",
        "colab_type": "code",
        "colab": {}
      },
      "source": [
        "# Cross val log2\n",
        "cross_val_metrics(CV_log2_clf)"
      ],
      "execution_count": null,
      "outputs": []
    },
    {
      "cell_type": "markdown",
      "metadata": {
        "_uuid": "c573a9e14440e3bc7d832da0f641772958305ae6",
        "id": "0uP9kZ_HNxu-",
        "colab_type": "text"
      },
      "source": [
        "## <a id='7.2'>7.2. Voting classifier : log + log2</a> "
      ]
    },
    {
      "cell_type": "code",
      "metadata": {
        "trusted": true,
        "_uuid": "b9256c3afb3ec39de31623ec736e70640a98f019",
        "id": "bMCdlnaNNxu_",
        "colab_type": "code",
        "colab": {}
      },
      "source": [
        "#Voting Classifier\n",
        "voting_clf = VotingClassifier (\n",
        "        estimators = [('log1', CV_log_clf), ('log_2', CV_log2_clf)],\n",
        "                     voting='soft', weights = [1, 1])\n",
        "    \n",
        "voting_clf.fit(X_train,y_train)\n",
        "\n",
        "y_pred = voting_clf.predict(X_test)\n",
        "y_score = voting_clf.predict_proba(X_test)[:,1]\n",
        "\n",
        "# Confusion maxtrix\n",
        "cm = confusion_matrix(y_test, y_pred)\n",
        "class_names = [0,1]\n",
        "show_metrics()"
      ],
      "execution_count": null,
      "outputs": []
    },
    {
      "cell_type": "code",
      "metadata": {
        "trusted": true,
        "_uuid": "6fc8c502a9278cc7e8ff69aed302e42f295cdb0f",
        "id": "KqTPIuShNxvE",
        "colab_type": "code",
        "colab": {}
      },
      "source": [
        "# Cross val score voting\n",
        "cross_voting = cross_val_metrics(voting_clf)"
      ],
      "execution_count": null,
      "outputs": []
    },
    {
      "cell_type": "code",
      "metadata": {
        "trusted": true,
        "_uuid": "b9700633cd3797e0d710fcd6ba614553516951c8",
        "id": "on9yx3GFNxvI",
        "colab_type": "code",
        "colab": {}
      },
      "source": [
        "#Learning curve Voting\n",
        "plot_learning_curve(voting_clf, 'Learning Curve For Voting clf', X, y, (0.85,1.05), 10)\n",
        "plt.savefig('9')\n",
        "plt.show()"
      ],
      "execution_count": null,
      "outputs": []
    },
    {
      "cell_type": "markdown",
      "metadata": {
        "_uuid": "f0303655c635fab7af59bf342d5589e83f0d224a",
        "id": "RVOJcYKDNxvM",
        "colab_type": "text"
      },
      "source": [
        " ## <a id='7.3'>7.3. Voting classifier : select threshold (recall = 100%)</a>"
      ]
    },
    {
      "cell_type": "code",
      "metadata": {
        "trusted": true,
        "_uuid": "96c35958b48bba169aabc9b5e80848a4574ddc29",
        "id": "Zdsc0RUwNxvN",
        "colab_type": "code",
        "colab": {}
      },
      "source": [
        "# Threshold\n",
        "thresholds_adj = [0.1,0.2,0.3,0.4,0.5,0.6,0.7,0.8,0.9]\n",
        "\n",
        "plt.figure(figsize = (15,15))\n",
        "\n",
        "j = 1\n",
        "for i in thresholds_adj:\n",
        "    y_score = voting_clf.predict_proba(X_test)[:,1] > i\n",
        "    \n",
        "    \n",
        "    plt.subplot(3,3,j)\n",
        "    j += 1\n",
        "    \n",
        "    cm = confusion_matrix(y_test, y_score)\n",
        "    \n",
        "    tp = cm[1,1]\n",
        "    fn = cm[1,0]\n",
        "    fp = cm[0,1]\n",
        "    tn = cm[0,0]\n",
        "\n",
        "    print('Recall w/ threshold = %s :'%i, (tp/(tp+fn)))\n",
        "    \n",
        "    class_names = [0,1]\n",
        "    plot_confusion_matrix(cm, \n",
        "                          classes=class_names, \n",
        "                          title='Threshold = %s'%i) "
      ],
      "execution_count": null,
      "outputs": []
    },
    {
      "cell_type": "markdown",
      "metadata": {
        "_uuid": "7d973d40a56f69f4b2ab4b97124a6aa0d749fd27",
        "id": "5DCfNz0INxvR",
        "colab_type": "text"
      },
      "source": [
        "## <a id='7.4'>7.4. Voting classifier : predicting with recall = 100% (precision = 92%)</a>"
      ]
    },
    {
      "cell_type": "code",
      "metadata": {
        "trusted": true,
        "_uuid": "b8a074dc9ecc2fcbfe165948bc7ca7e1b01dc66a",
        "id": "sDQAVKWKNxvR",
        "colab_type": "code",
        "colab": {}
      },
      "source": [
        "# Ensemble, recall = 1.\n",
        "y_score = voting_clf.predict_proba(X_test)[:,1] > 0.23\n",
        "cm = confusion_matrix(y_test, y_score)\n",
        "class_names = [0,1]\n",
        "plt.figure()\n",
        "plot_confusion_matrix(cm, \n",
        "                      classes = class_names, \n",
        "                      title = 'Ensemble Clf CM : recall = 100%')\n",
        "plt.savefig('8')\n",
        "plt.show()\n",
        "\n",
        "show_metrics()\n",
        "\n",
        "# ROC curve\n",
        "fpr, tpr, t = roc_curve(y_test, y_score)\n",
        "plot_roc()\n",
        "\n",
        "# Precision-recall curve\n",
        "precision, recall, thresholds = precision_recall_curve(y_test, y_score)\n",
        "plot_precision_recall()"
      ],
      "execution_count": null,
      "outputs": []
    },
    {
      "cell_type": "markdown",
      "metadata": {
        "_uuid": "de6ad8bba144fad0f695b83e204f4594fce7e216",
        "id": "FvyWDFBSNxvU",
        "colab_type": "text"
      },
      "source": [
        "## <a id='7.5'>7.5. Models performance plot (accuracy, precision, recall)</a>"
      ]
    },
    {
      "cell_type": "code",
      "metadata": {
        "trusted": true,
        "_uuid": "5003dd3cfeb323cdb1d563bd751b9b33554769a0",
        "id": "NyqJE2DDNxvV",
        "colab_type": "code",
        "colab": {}
      },
      "source": [
        "models_metrics = {'log_clf': [0.982, 0.990, 0.962], \n",
        "                 'selector': [0.974, 0.981, 0.948],\n",
        "                 'log2_clf' : [0.974,0.976,0.953],\n",
        "                 'voting_clf' : [0.979,0.985,0.958]\n",
        "                }\n",
        "df = pd.DataFrame(data = models_metrics)\n",
        "df.rename(index={0:'Accuracy',1:'Precision', 2: 'Recall'}, \n",
        "                 inplace=True)\n",
        "ax = df.plot(kind='bar', figsize = (15,10), ylim = (0.94, 1), \n",
        "        color = ['gold', 'lightgreen', 'lightcoral', 'lightskyblue'],\n",
        "        rot = 0, title ='Models performance (cross val mean)',\n",
        "        edgecolor = 'grey', alpha = 0.5)\n",
        "for p in ax.patches:\n",
        "    ax.annotate(str(p.get_height()), (p.get_x() * 1.01, p.get_height() * 1.0005))\n",
        "plt.show()"
      ],
      "execution_count": null,
      "outputs": []
    },
    {
      "cell_type": "markdown",
      "metadata": {
        "_uuid": "b2df81409628ccdc4ed3b3cccf600f3cba9774cd",
        "id": "21KcU_stNxvY",
        "colab_type": "text"
      },
      "source": [
        "**Thank you all ! Stay Safe Stay Happy :)**"
      ]
    }
  ]
}